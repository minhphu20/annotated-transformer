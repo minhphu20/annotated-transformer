{
  "nbformat": 4,
  "nbformat_minor": 0,
  "metadata": {
    "colab": {
      "name": "Annotated Transformer.ipynb",
      "provenance": [],
      "authorship_tag": "ABX9TyMz6exPwvOJW7qi5odU6Q5I",
      "include_colab_link": true
    },
    "kernelspec": {
      "name": "python3",
      "display_name": "Python 3"
    },
    "language_info": {
      "name": "python"
    }
  },
  "cells": [
    {
      "cell_type": "markdown",
      "metadata": {
        "id": "view-in-github",
        "colab_type": "text"
      },
      "source": [
        "<a href=\"https://colab.research.google.com/github/minhphu20/annotated-transformer/blob/main/Annotated_Transformer.ipynb\" target=\"_parent\"><img src=\"https://colab.research.google.com/assets/colab-badge.svg\" alt=\"Open In Colab\"/></a>"
      ]
    },
    {
      "cell_type": "markdown",
      "metadata": {
        "id": "HtI2V-XCGs6c"
      },
      "source": [
        "#Attention mechanism\n",
        "\n",
        "- [Article](https://www.analyticsvidhya.com/blog/2019/11/comprehensive-guide-attention-mechanism-deep-learning/)\n",
        "\n",
        "- Summary doc: [link](https://docs.google.com/document/d/1qh-CD5H5ASy98r4qlD8DpqQiVGVWs6KHAKqEhKi9jAg/edit?usp=sharing_)"
      ]
    },
    {
      "cell_type": "code",
      "metadata": {
        "id": "5GexTfZ_-gcN"
      },
      "source": [
        "import numpy as np\n",
        "import torch\n",
        "import torch.nn as nn\n",
        "import torch.nn.functional as F\n",
        "import math, copy, time\n",
        "from torch.autograd import Variable\n",
        "import matplotlib.pyplot as plt\n",
        "import seaborn\n",
        "seaborn.set_context(context=\"talk\")\n",
        "%matplotlib inline"
      ],
      "execution_count": null,
      "outputs": []
    },
    {
      "cell_type": "code",
      "metadata": {
        "id": "FRAM0r2iGueu"
      },
      "source": [
        ""
      ],
      "execution_count": null,
      "outputs": []
    }
  ]
}